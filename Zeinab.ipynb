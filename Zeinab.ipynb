{
 "cells": [
  {
   "cell_type": "code",
   "execution_count": 34,
   "metadata": {},
   "outputs": [],
   "source": [
    "import pandas as pd\n",
    "import datetime as datetime\n",
    "import investpy"
   ]
  },
  {
   "cell_type": "code",
   "execution_count": 35,
   "metadata": {},
   "outputs": [],
   "source": [
    "bitcoin_path = \"data/bitcoin_data.csv\"\n",
    "gold_path= \"data/gold_data.csv\""
   ]
  },
  {
   "cell_type": "code",
   "execution_count": 36,
   "metadata": {},
   "outputs": [],
   "source": [
    "bitcoin = pd.read_csv(bitcoin_path, encoding=\"ISO-8859-1\")\n",
    "gold= pd.read_csv(gold_path)"
   ]
  },
  {
   "cell_type": "code",
   "execution_count": 37,
   "metadata": {},
   "outputs": [],
   "source": [
    "bitcoin_df= investpy.get_crypto_historical_data(crypto='bitcoin',\n",
    "                                           from_date='01/01/2012',\n",
    "                                           to_date='01/01/2021')"
   ]
  },
  {
   "cell_type": "code",
   "execution_count": 38,
   "metadata": {},
   "outputs": [],
   "source": [
    "bitcoin_= bitcoin_df.reset_index()"
   ]
  },
  {
   "cell_type": "code",
   "execution_count": 49,
   "metadata": {},
   "outputs": [],
   "source": [
    "bitcoin_['Date'] = bitcoin_['Date'].dt.strftime('%Y-%m') \n",
    "\n"
   ]
  },
  {
   "cell_type": "code",
   "execution_count": 58,
   "metadata": {},
   "outputs": [],
   "source": [
    "bitcoin_df= pd.DataFrame(bitcoin_.groupby(['Date'])['Close'].mean())"
   ]
  },
  {
   "cell_type": "code",
   "execution_count": 59,
   "metadata": {},
   "outputs": [
    {
     "data": {
      "text/html": [
       "<div>\n",
       "<style scoped>\n",
       "    .dataframe tbody tr th:only-of-type {\n",
       "        vertical-align: middle;\n",
       "    }\n",
       "\n",
       "    .dataframe tbody tr th {\n",
       "        vertical-align: top;\n",
       "    }\n",
       "\n",
       "    .dataframe thead th {\n",
       "        text-align: right;\n",
       "    }\n",
       "</style>\n",
       "<table border=\"1\" class=\"dataframe\">\n",
       "  <thead>\n",
       "    <tr style=\"text-align: right;\">\n",
       "      <th></th>\n",
       "      <th>Close</th>\n",
       "    </tr>\n",
       "    <tr>\n",
       "      <th>Date</th>\n",
       "      <th></th>\n",
       "    </tr>\n",
       "  </thead>\n",
       "  <tbody>\n",
       "    <tr>\n",
       "      <th>2012-01</th>\n",
       "      <td>6.122581</td>\n",
       "    </tr>\n",
       "    <tr>\n",
       "      <th>2012-02</th>\n",
       "      <td>5.113793</td>\n",
       "    </tr>\n",
       "    <tr>\n",
       "      <th>2012-03</th>\n",
       "      <td>4.900000</td>\n",
       "    </tr>\n",
       "    <tr>\n",
       "      <th>2012-04</th>\n",
       "      <td>4.980000</td>\n",
       "    </tr>\n",
       "    <tr>\n",
       "      <th>2012-05</th>\n",
       "      <td>5.070968</td>\n",
       "    </tr>\n",
       "    <tr>\n",
       "      <th>...</th>\n",
       "      <td>...</td>\n",
       "    </tr>\n",
       "    <tr>\n",
       "      <th>2020-09</th>\n",
       "      <td>10643.326667</td>\n",
       "    </tr>\n",
       "    <tr>\n",
       "      <th>2020-10</th>\n",
       "      <td>11888.358065</td>\n",
       "    </tr>\n",
       "    <tr>\n",
       "      <th>2020-11</th>\n",
       "      <td>16660.766667</td>\n",
       "    </tr>\n",
       "    <tr>\n",
       "      <th>2020-12</th>\n",
       "      <td>21982.048387</td>\n",
       "    </tr>\n",
       "    <tr>\n",
       "      <th>2021-01</th>\n",
       "      <td>29359.900000</td>\n",
       "    </tr>\n",
       "  </tbody>\n",
       "</table>\n",
       "<p>109 rows × 1 columns</p>\n",
       "</div>"
      ],
      "text/plain": [
       "                Close\n",
       "Date                 \n",
       "2012-01      6.122581\n",
       "2012-02      5.113793\n",
       "2012-03      4.900000\n",
       "2012-04      4.980000\n",
       "2012-05      5.070968\n",
       "...               ...\n",
       "2020-09  10643.326667\n",
       "2020-10  11888.358065\n",
       "2020-11  16660.766667\n",
       "2020-12  21982.048387\n",
       "2021-01  29359.900000\n",
       "\n",
       "[109 rows x 1 columns]"
      ]
     },
     "execution_count": 59,
     "metadata": {},
     "output_type": "execute_result"
    }
   ],
   "source": [
    "bitcoin_df"
   ]
  },
  {
   "cell_type": "code",
   "execution_count": 60,
   "metadata": {},
   "outputs": [
    {
     "name": "stderr",
     "output_type": "stream",
     "text": [
      "<ipython-input-60-cb076cc39063>:3: SettingWithCopyWarning: \n",
      "A value is trying to be set on a copy of a slice from a DataFrame.\n",
      "Try using .loc[row_indexer,col_indexer] = value instead\n",
      "\n",
      "See the caveats in the documentation: https://pandas.pydata.org/pandas-docs/stable/user_guide/indexing.html#returning-a-view-versus-a-copy\n",
      "  gold_fi['Date'] = gold_fi['Date'].dt.strftime('%Y-%m')\n"
     ]
    }
   ],
   "source": [
    "gold[\"Date\"]= pd.to_datetime(gold[\"Date\"])\n",
    "gold_fi= gold.loc[gold[\"Date\"] >= \"2012-01\", :]\n",
    "gold_fi['Date'] = gold_fi['Date'].dt.strftime('%Y-%m') "
   ]
  },
  {
   "cell_type": "code",
   "execution_count": 61,
   "metadata": {},
   "outputs": [],
   "source": [
    "gold_fi= gold_fi.set_index(\"Date\")"
   ]
  },
  {
   "cell_type": "code",
   "execution_count": 63,
   "metadata": {},
   "outputs": [],
   "source": [
    "merge_file= bitcoin_df.merge(gold_fi, how='inner', on='Date')\n",
    "merge_file= merge_file.rename(columns= {\"Close\": \"Bitcoin Price\"})\n",
    "merge_file= merge_file.rename(columns= {\"Price\": \"Gold Price\"})\n"
   ]
  },
  {
   "cell_type": "code",
   "execution_count": 65,
   "metadata": {},
   "outputs": [],
   "source": [
    "merge_file.to_csv('merge.csv', index = False)"
   ]
  },
  {
   "cell_type": "code",
   "execution_count": null,
   "metadata": {},
   "outputs": [],
   "source": []
  }
 ],
 "metadata": {
  "kernelspec": {
   "display_name": "Python 3",
   "language": "python",
   "name": "python3"
  },
  "language_info": {
   "codemirror_mode": {
    "name": "ipython",
    "version": 3
   },
   "file_extension": ".py",
   "mimetype": "text/x-python",
   "name": "python",
   "nbconvert_exporter": "python",
   "pygments_lexer": "ipython3",
   "version": "3.9.1"
  }
 },
 "nbformat": 4,
 "nbformat_minor": 4
}
