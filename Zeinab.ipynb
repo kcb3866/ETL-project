{
 "cells": [
  {
   "cell_type": "code",
   "execution_count": 34,
   "metadata": {},
   "outputs": [],
   "source": [
    "import pandas as pd\n",
    "import datetime as datetime\n",
    "import investpy"
   ]
  },
  {
   "cell_type": "code",
   "execution_count": 35,
   "metadata": {},
   "outputs": [],
   "source": [
    "bitcoin_path = \"data/bitcoin_data.csv\"\n",
    "gold_path= \"data/gold_data.csv\""
   ]
  },
  {
   "cell_type": "code",
   "execution_count": 36,
   "metadata": {},
   "outputs": [],
   "source": [
    "bitcoin = pd.read_csv(bitcoin_path, encoding=\"ISO-8859-1\")\n",
    "gold= pd.read_csv(gold_path)"
   ]
  },
  {
   "cell_type": "code",
   "execution_count": 37,
   "metadata": {},
   "outputs": [],
   "source": [
    "bitcoin_df= investpy.get_crypto_historical_data(crypto='bitcoin',\n",
    "                                           from_date='01/01/2012',\n",
    "                                           to_date='01/01/2021')"
   ]
  },
  {
   "cell_type": "code",
   "execution_count": 38,
   "metadata": {},
   "outputs": [],
   "source": [
    "bitcoin_= bitcoin_df.reset_index()"
   ]
  },
  {
   "cell_type": "code",
   "execution_count": 49,
   "metadata": {},
   "outputs": [],
   "source": [
    "bitcoin_['Date'] = bitcoin_['Date'].dt.strftime('%Y-%m') \n",
    "\n"
   ]
  },
  {
   "cell_type": "code",
   "execution_count": 58,
   "metadata": {},
   "outputs": [],
   "source": [
    "bitcoin_df= pd.DataFrame(bitcoin_.groupby(['Date'])['Close'].mean())"
   ]
  },
  {
   "cell_type": "code",
   "execution_count": 59,
   "metadata": {},
   "outputs": [
    {
     "data": {
      "text/html": [
       "<div>\n",
       "<style scoped>\n",
       "    .dataframe tbody tr th:only-of-type {\n",
       "        vertical-align: middle;\n",
       "    }\n",
       "\n",
       "    .dataframe tbody tr th {\n",
       "        vertical-align: top;\n",
       "    }\n",
       "\n",
       "    .dataframe thead th {\n",
       "        text-align: right;\n",
       "    }\n",
       "</style>\n",
       "<table border=\"1\" class=\"dataframe\">\n",
       "  <thead>\n",
       "    <tr style=\"text-align: right;\">\n",
       "      <th></th>\n",
       "      <th>Close</th>\n",
       "    </tr>\n",
       "    <tr>\n",
       "      <th>Date</th>\n",
       "      <th></th>\n",
       "    </tr>\n",
       "  </thead>\n",
       "  <tbody>\n",
       "    <tr>\n",
       "      <th>2012-01</th>\n",
       "      <td>6.122581</td>\n",
       "    </tr>\n",
       "    <tr>\n",
       "      <th>2012-02</th>\n",
       "      <td>5.113793</td>\n",
       "    </tr>\n",
       "    <tr>\n",
       "      <th>2012-03</th>\n",
       "      <td>4.900000</td>\n",
       "    </tr>\n",
       "    <tr>\n",
       "      <th>2012-04</th>\n",
       "      <td>4.980000</td>\n",
       "    </tr>\n",
       "    <tr>\n",
       "      <th>2012-05</th>\n",
       "      <td>5.070968</td>\n",
       "    </tr>\n",
       "    <tr>\n",
       "      <th>...</th>\n",
       "      <td>...</td>\n",
       "    </tr>\n",
       "    <tr>\n",
       "      <th>2020-09</th>\n",
       "      <td>10643.326667</td>\n",
       "    </tr>\n",
       "    <tr>\n",
       "      <th>2020-10</th>\n",
       "      <td>11888.358065</td>\n",
       "    </tr>\n",
       "    <tr>\n",
       "      <th>2020-11</th>\n",
       "      <td>16660.766667</td>\n",
       "    </tr>\n",
       "    <tr>\n",
       "      <th>2020-12</th>\n",
       "      <td>21982.048387</td>\n",
       "    </tr>\n",
       "    <tr>\n",
       "      <th>2021-01</th>\n",
       "      <td>29359.900000</td>\n",
       "    </tr>\n",
       "  </tbody>\n",
       "</table>\n",
       "<p>109 rows × 1 columns</p>\n",
       "</div>"
      ],
      "text/plain": [
       "                Close\n",
       "Date                 \n",
       "2012-01      6.122581\n",
       "2012-02      5.113793\n",
       "2012-03      4.900000\n",
       "2012-04      4.980000\n",
       "2012-05      5.070968\n",
       "...               ...\n",
       "2020-09  10643.326667\n",
       "2020-10  11888.358065\n",
       "2020-11  16660.766667\n",
       "2020-12  21982.048387\n",
       "2021-01  29359.900000\n",
       "\n",
       "[109 rows x 1 columns]"
      ]
     },
     "execution_count": 59,
     "metadata": {},
     "output_type": "execute_result"
    }
   ],
   "source": [
    "bitcoin_df"
   ]
  },
  {
   "cell_type": "code",
   "execution_count": 60,
   "metadata": {},
   "outputs": [
    {
     "name": "stderr",
     "output_type": "stream",
     "text": [
      "<ipython-input-60-cb076cc39063>:3: SettingWithCopyWarning: \n",
      "A value is trying to be set on a copy of a slice from a DataFrame.\n",
      "Try using .loc[row_indexer,col_indexer] = value instead\n",
      "\n",
      "See the caveats in the documentation: https://pandas.pydata.org/pandas-docs/stable/user_guide/indexing.html#returning-a-view-versus-a-copy\n",
      "  gold_fi['Date'] = gold_fi['Date'].dt.strftime('%Y-%m')\n"
     ]
    }
   ],
   "source": [
    "gold[\"Date\"]= pd.to_datetime(gold[\"Date\"])\n",
    "gold_fi= gold.loc[gold[\"Date\"] >= \"2012-01\", :]\n",
    "gold_fi['Date'] = gold_fi['Date'].dt.strftime('%Y-%m') "
   ]
  },
  {
   "cell_type": "code",
   "execution_count": 61,
   "metadata": {},
   "outputs": [],
   "source": [
    "gold_fi= gold_fi.set_index(\"Date\")"
   ]
  },
  {
   "cell_type": "code",
   "execution_count": 63,
   "metadata": {},
   "outputs": [],
   "source": [
    "merge_file= bitcoin_df.merge(gold_fi, how='inner', on='Date')\n",
    "merge_file= merge_file.rename(columns= {\"Close\": \"Bitcoin Price\"})\n",
    "merge_file= merge_file.rename(columns= {\"Price\": \"Gold Price\"})\n"
   ]
  },
  {
   "cell_type": "code",
   "execution_count": 64,
   "metadata": {},
   "outputs": [
    {
     "data": {
      "text/plain": [
       "'Bitcoin Price,Gold Price\\n6.1225806451612925,1656.095\\n5.113793103448277,1743.095\\n4.9,1675.057\\n4.9799999999999995,1648.539\\n5.070967741935481,1585.114\\n6.046666666666668,1595.632\\n7.9387096774193555,1592.784\\n10.941935483870965,1625.682\\n11.633333333333333,1741.925\\n11.725806451612904,1746.348\\n11.49,1724.352\\n13.364516129032253,1687.342\\n15.599999999999998,1671.886\\n26.042857142857137,1630.688\\n57.50322580645162,1591.013\\n130.34,1485.905\\n119.9677419354839,1416.143\\n107.81666666666666,1342.7\\n90.6774193548387,1284.348\\n114.82580645161292,1345.048\\n136.68333333333334,1348.464\\n168.1290322580645,1314.402\\n582.1433333333333,1277.417\\n840.2548387096773,1221.588\\n935.4645161290323,1243.068\\n515.0928571428572,1298.713\\n578.8677419354838,1336.56\\n465.1933333333334,1299.175\\n485.74838709677414,1288.913\\n617.0699999999999,1277.857\\n616.5483870967741,1312.989\\n537.5129032258066,1297.005\\n446.2933333333333,1241.33\\n362.3806451612904,1223.565\\n365.7999999999999,1176.413\\n341.6064516129032,1200.44\\n248.20967741935488,1249.333\\n234.2,1231.1\\n268.62903225806446,1180.636\\n234.98,1198.253\\n236.98709677419353,1197.684\\n237.99000000000007,1182.248\\n278.7483870967742,1131.58\\n251.11935483870968,1117.525\\n233.27666666666664,1124.905\\n264.9129032258065,1157.123\\n346.8966666666666,1088.388\\n423.55161290322576,1068.317\\n410.9387096774193,1095.655\\n403.7896551724138,1194.893\\n414.9612903225808,1246.312\\n433.44666666666666,1241.452\\n461.35161290322577,1259.755\\n639.6466666666668,1273.58\\n660.1612903225807,1337.429\\n578.0225806451613,1340.861\\n605.7333333333333,1326.618\\n641.4903225806452,1268.929\\n724.1333333333332,1240.293\\n824.1225806451614,1152.165\\n909.674193548387,1192.648\\n1061.3285714285714,1233.39\\n1129.2677419354839,1231.063\\n1215.2366666666667,1267.15\\n1877.5709677419354,1245.25\\n2632.293333333334,1261.277\\n2525.7419354838707,1235.1\\n3878.9064516129038,1281.72\\n4095.6766666666676,1317.045\\n5351.39677419355,1280.677\\n7771.94,1283.189\\n15034.532258064513,1265.674\\n13003.535483870968,1332.809\\n9402.889285714287,1333.775\\n8978.093548387098,1325.562\\n8033.543333333333,1335.332\\n8438.987096774194,1303.618\\n6780.89,1282.126\\n7131.041935483871,1238.064\\n6678.367741935485,1201.859\\n6594.463333333335,1199.198\\n6522.125806451614,1214.726\\n5446.906666666667,1221.275\\n3686.0032258064507,1249.887\\n3653.335483870968,1291.63\\n3691.203571428571,1319.755\\n3941.4612903225807,1302.286\\n5148.216666666665,1287.65\\n7295.803225806451,1282.46\\n9404.706666666665,1358.488\\n10672.509677419355,1414.611\\n10648.51612903226,1497.102\\n9782.813333333334,1510.336\\n8375.012903225806,1494.765\\n8340.096666666668,1471.921\\n7254.854838709675,1480.025\\n8378.8,1560.668\\n9636.562068965519,1598.818\\n6863.106451612904,1593.764\\n7211.03,1680.03\\n9253.551612903228,1715.697\\n9481.85,1734.032\\n9592.1,1840.807\\n'"
      ]
     },
     "execution_count": 64,
     "metadata": {},
     "output_type": "execute_result"
    }
   ],
   "source": [
    "merge_file.to_csv(index=False)"
   ]
  },
  {
   "cell_type": "code",
   "execution_count": null,
   "metadata": {},
   "outputs": [],
   "source": []
  }
 ],
 "metadata": {
  "kernelspec": {
   "display_name": "Python 3",
   "language": "python",
   "name": "python3"
  },
  "language_info": {
   "codemirror_mode": {
    "name": "ipython",
    "version": 3
   },
   "file_extension": ".py",
   "mimetype": "text/x-python",
   "name": "python",
   "nbconvert_exporter": "python",
   "pygments_lexer": "ipython3",
   "version": "3.9.1"
  }
 },
 "nbformat": 4,
 "nbformat_minor": 4
}
